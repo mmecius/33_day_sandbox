{
  "nbformat": 4,
  "nbformat_minor": 0,
  "metadata": {
    "kernelspec": {
      "display_name": "Python 3",
      "language": "python",
      "name": "python3"
    },
    "language_info": {
      "codemirror_mode": {
        "name": "ipython",
        "version": 3
      },
      "file_extension": ".py",
      "mimetype": "text/x-python",
      "name": "python",
      "nbconvert_exporter": "python",
      "pygments_lexer": "ipython3",
      "version": "3.7.7"
    },
    "colab": {
      "name": "121.ipynb",
      "provenance": []
    }
  },
  "cells": [
    {
      "cell_type": "markdown",
      "metadata": {
        "id": "S8oFcVBx2-Fx"
      },
      "source": [
        "# Module 1: Data Wrangling with Python\n",
        "## Sprint 2: Data Processing with NumPy and Pandas\n",
        "## Part 1: Numerical Data with NumPy I\n"
      ]
    },
    {
      "cell_type": "markdown",
      "metadata": {
        "id": "dXBcYcAS2-F7"
      },
      "source": [
        "## About this Part\n",
        "\n",
        "You'll start this part with an introduction to the world of data science and the most important data science technology - NumPy.\n",
        "You'll learn the NumPy data types, basics of NumPy arrays, aggregation functions, and broadcasting.\n",
        "Broadcasting is especially important concept, which is going to be essential for how computers perform operations on multiple arrays or tensors.\n",
        "In addition to that, there will be some opportunities to strengthen your Python skills as well.\n",
        "Moreover you'll refresh the basics of linear algebra using the Data Science from Scratch.\n",
        "\n",
        "## Objectives for this Part\n",
        "\n",
        "- Learn the fundamentals of NumPy.\n",
        "- Practice vector and matrix algebra with NumPy.\n",
        "- Learn the basics of linear algebra.\n",
        "- Practice Python by solving exercises.\n"
      ]
    },
    {
      "cell_type": "markdown",
      "metadata": {
        "id": "amFy8NSQ2-F-"
      },
      "source": [
        "[Python for Data Science](https://learning.edx.org/course/course-v1:UCSanDiegoX+DSE200x+3T2020)\n",
        "\n",
        "Introduction and Course Information\n",
        "\n",
        "Week 1: Getting Started with Data Science\n",
        "\n",
        "Week 2: (Optional) Background in Python and Unix"
      ]
    },
    {
      "cell_type": "markdown",
      "metadata": {
        "id": "qW4pZ5XG2-GB"
      },
      "source": [
        "[Introduction to Data Science in Python](https://www.coursera.org/learn/python-data-analysis)\n",
        "\n",
        "Week 1\n",
        "\n",
        "- Introduction to the Course\n",
        "- Fundamentals of Data Manipulation\n"
      ]
    },
    {
      "cell_type": "markdown",
      "metadata": {
        "id": "t-Vqa1tq2-GD"
      },
      "source": [
        "#[Python Data Science Handbook by Jake VanderPlas](https://learning.oreilly.com/library/view/python-data-science/9781491912126/)\n",
        "\n",
        "Chapter 2. Introduction to NumPy\n",
        "\n",
        "- Understanding Data Types in Python\n",
        "- The Basics of NumPy Arrays\n",
        "- Computation on NumPy Arrays: Universal Functions\n",
        "- Aggregations: Min, Max, and Everything in Between\n",
        "- Computation on Arrays: Broadcasting"
      ]
    },
    {
      "cell_type": "code",
      "metadata": {
        "id": "D8JElxqh3HIK"
      },
      "source": [
        "# Computation on Arrays: Broadcasting\n"
      ],
      "execution_count": null,
      "outputs": []
    },
    {
      "cell_type": "markdown",
      "metadata": {
        "id": "eh4iRGdg2-GE"
      },
      "source": [
        "#[From Python to Numpy](https://www.labri.fr/perso/nrougier/from-python-to-numpy)\n",
        "\n",
        "1. Preface\n",
        "\n",
        "2. Introduction\n",
        "\n",
        "3. Anatomy of an array"
      ]
    },
    {
      "cell_type": "markdown",
      "metadata": {
        "id": "Dp1oq-jf2-GF"
      },
      "source": [
        "#[Data Science from Scratch, 2nd Edition](https://learning.oreilly.com/library/view/data-science-from/9781492041122/)\n",
        "\n",
        "Chapter 4. Linear Algebra"
      ]
    },
    {
      "cell_type": "code",
      "metadata": {
        "id": "y7piBbKfNgea"
      },
      "source": [
        "from typing import List\n",
        "Vector  = List[float]\n",
        "\n",
        "height_weight_age = [70,  # inches,\n",
        "                     170, # pounds,\n",
        "                     40 ] # years\n",
        "\n",
        "grades = [95,   # exam1\n",
        "          80,   # exam2\n",
        "          75,   # exam3\n",
        "          62 ]  # exam4\n",
        "\n"
      ],
      "execution_count": 9,
      "outputs": []
    },
    {
      "cell_type": "code",
      "metadata": {
        "id": "MDIWFnLGPy3x",
        "outputId": "5bd6c794-2b54-4fca-9fc5-efe947c51c85",
        "colab": {
          "base_uri": "https://localhost:8080/",
          "height": 336
        }
      },
      "source": [
        "def add(v: Vector, w: Vector) -> Vector:\n",
        "    \"\"\"Adds corresponding elements\"\"\"\n",
        "    assert len(v) == len(w)\n",
        "    return [v_i + w_i for v_i, w_i in zip(v,w)]\n",
        "assert add([1,2,3], [4,5,6] == [5,7,9])"
      ],
      "execution_count": 8,
      "outputs": [
        {
          "output_type": "error",
          "ename": "TypeError",
          "evalue": "ignored",
          "traceback": [
            "\u001b[0;31m---------------------------------------------------------------------------\u001b[0m",
            "\u001b[0;31mTypeError\u001b[0m                                 Traceback (most recent call last)",
            "\u001b[0;32m<ipython-input-8-e3d4b35608e0>\u001b[0m in \u001b[0;36m<module>\u001b[0;34m()\u001b[0m\n\u001b[1;32m      3\u001b[0m     \u001b[0;32massert\u001b[0m \u001b[0mlen\u001b[0m\u001b[0;34m(\u001b[0m\u001b[0mv\u001b[0m\u001b[0;34m)\u001b[0m \u001b[0;34m==\u001b[0m \u001b[0mlen\u001b[0m\u001b[0;34m(\u001b[0m\u001b[0mw\u001b[0m\u001b[0;34m)\u001b[0m\u001b[0;34m\u001b[0m\u001b[0;34m\u001b[0m\u001b[0m\n\u001b[1;32m      4\u001b[0m     \u001b[0;32mreturn\u001b[0m \u001b[0;34m[\u001b[0m\u001b[0mv_i\u001b[0m \u001b[0;34m+\u001b[0m \u001b[0mw_i\u001b[0m \u001b[0;32mfor\u001b[0m \u001b[0mv_i\u001b[0m\u001b[0;34m,\u001b[0m \u001b[0mw_i\u001b[0m \u001b[0;32min\u001b[0m \u001b[0mzip\u001b[0m\u001b[0;34m(\u001b[0m\u001b[0mv\u001b[0m\u001b[0;34m,\u001b[0m\u001b[0mw\u001b[0m\u001b[0;34m)\u001b[0m\u001b[0;34m]\u001b[0m\u001b[0;34m\u001b[0m\u001b[0;34m\u001b[0m\u001b[0m\n\u001b[0;32m----> 5\u001b[0;31m \u001b[0;32massert\u001b[0m \u001b[0madd\u001b[0m\u001b[0;34m(\u001b[0m\u001b[0;34m[\u001b[0m\u001b[0;36m1\u001b[0m\u001b[0;34m,\u001b[0m\u001b[0;36m2\u001b[0m\u001b[0;34m,\u001b[0m\u001b[0;36m3\u001b[0m\u001b[0;34m]\u001b[0m\u001b[0;34m,\u001b[0m \u001b[0;34m[\u001b[0m\u001b[0;36m4\u001b[0m\u001b[0;34m,\u001b[0m\u001b[0;36m5\u001b[0m\u001b[0;34m,\u001b[0m\u001b[0;36m6\u001b[0m\u001b[0;34m]\u001b[0m \u001b[0;34m==\u001b[0m \u001b[0;34m[\u001b[0m\u001b[0;36m5\u001b[0m\u001b[0;34m,\u001b[0m\u001b[0;36m7\u001b[0m\u001b[0;34m,\u001b[0m\u001b[0;36m9\u001b[0m\u001b[0;34m]\u001b[0m\u001b[0;34m)\u001b[0m\u001b[0;34m\u001b[0m\u001b[0;34m\u001b[0m\u001b[0m\n\u001b[0m",
            "\u001b[0;32m<ipython-input-8-e3d4b35608e0>\u001b[0m in \u001b[0;36madd\u001b[0;34m(v, w)\u001b[0m\n\u001b[1;32m      1\u001b[0m \u001b[0;32mdef\u001b[0m \u001b[0madd\u001b[0m\u001b[0;34m(\u001b[0m\u001b[0mv\u001b[0m\u001b[0;34m:\u001b[0m \u001b[0mVector\u001b[0m\u001b[0;34m,\u001b[0m \u001b[0mw\u001b[0m\u001b[0;34m:\u001b[0m \u001b[0mVector\u001b[0m\u001b[0;34m)\u001b[0m \u001b[0;34m->\u001b[0m \u001b[0mVector\u001b[0m\u001b[0;34m:\u001b[0m\u001b[0;34m\u001b[0m\u001b[0;34m\u001b[0m\u001b[0m\n\u001b[1;32m      2\u001b[0m     \u001b[0;34m\"\"\"Adds corresponding elements\"\"\"\u001b[0m\u001b[0;34m\u001b[0m\u001b[0;34m\u001b[0m\u001b[0m\n\u001b[0;32m----> 3\u001b[0;31m     \u001b[0;32massert\u001b[0m \u001b[0mlen\u001b[0m\u001b[0;34m(\u001b[0m\u001b[0mv\u001b[0m\u001b[0;34m)\u001b[0m \u001b[0;34m==\u001b[0m \u001b[0mlen\u001b[0m\u001b[0;34m(\u001b[0m\u001b[0mw\u001b[0m\u001b[0;34m)\u001b[0m\u001b[0;34m\u001b[0m\u001b[0;34m\u001b[0m\u001b[0m\n\u001b[0m\u001b[1;32m      4\u001b[0m     \u001b[0;32mreturn\u001b[0m \u001b[0;34m[\u001b[0m\u001b[0mv_i\u001b[0m \u001b[0;34m+\u001b[0m \u001b[0mw_i\u001b[0m \u001b[0;32mfor\u001b[0m \u001b[0mv_i\u001b[0m\u001b[0;34m,\u001b[0m \u001b[0mw_i\u001b[0m \u001b[0;32min\u001b[0m \u001b[0mzip\u001b[0m\u001b[0;34m(\u001b[0m\u001b[0mv\u001b[0m\u001b[0;34m,\u001b[0m\u001b[0mw\u001b[0m\u001b[0;34m)\u001b[0m\u001b[0;34m]\u001b[0m\u001b[0;34m\u001b[0m\u001b[0;34m\u001b[0m\u001b[0m\n\u001b[1;32m      5\u001b[0m \u001b[0;32massert\u001b[0m \u001b[0madd\u001b[0m\u001b[0;34m(\u001b[0m\u001b[0;34m[\u001b[0m\u001b[0;36m1\u001b[0m\u001b[0;34m,\u001b[0m\u001b[0;36m2\u001b[0m\u001b[0;34m,\u001b[0m\u001b[0;36m3\u001b[0m\u001b[0;34m]\u001b[0m\u001b[0;34m,\u001b[0m \u001b[0;34m[\u001b[0m\u001b[0;36m4\u001b[0m\u001b[0;34m,\u001b[0m\u001b[0;36m5\u001b[0m\u001b[0;34m,\u001b[0m\u001b[0;36m6\u001b[0m\u001b[0;34m]\u001b[0m \u001b[0;34m==\u001b[0m \u001b[0;34m[\u001b[0m\u001b[0;36m5\u001b[0m\u001b[0;34m,\u001b[0m\u001b[0;36m7\u001b[0m\u001b[0;34m,\u001b[0m\u001b[0;36m9\u001b[0m\u001b[0;34m]\u001b[0m\u001b[0;34m)\u001b[0m\u001b[0;34m\u001b[0m\u001b[0;34m\u001b[0m\u001b[0m\n",
            "\u001b[0;31mTypeError\u001b[0m: object of type 'bool' has no len()"
          ]
        }
      ]
    },
    {
      "cell_type": "markdown",
      "metadata": {
        "id": "fhfiFa1y2-GG"
      },
      "source": [
        "#[Codesignal Arcade Intro](https://app.codesignal.com/arcade/intro).\n",
        "\n",
        "- Diving Deeper (34-37).\n"
      ]
    },
    {
      "cell_type": "code",
      "metadata": {
        "id": "lZj5a6WUZ_ER"
      },
      "source": [
        "matrix= [[1, 2, 1],[2, 1, 1],[1, 1, 1]]"
      ],
      "execution_count": 4,
      "outputs": []
    },
    {
      "cell_type": "code",
      "metadata": {
        "id": "GpBnLhiBX5Rr",
        "outputId": "a93f6803-0ae1-42aa-f54f-242e4a86d446",
        "colab": {
          "base_uri": "https://localhost:8080/",
          "height": 134
        }
      },
      "source": [
        "def minesweeper(matrix):\n",
        "    result = []\n",
        "    # for _ in range(len(matrix)):\n",
        "    #     result.append()\n",
        "    for i in range(len(matrix)):\n",
        "        for j in range(len(matrix[0])):\n",
        "            result[i].append(countBombSurrounding([i,j],matrix))\n",
        "\n",
        "\n",
        "def countBombSurrounding([i,j],matrix):\n",
        "    bombCount = 0\n",
        "    deepBorder = len(matrix) - 1\n",
        "    wideBorder = len(matrix[0]) - 1\n",
        "\n",
        "    deepLow = roundToBorder(coori[0]-1, deepBorder)\n",
        "    deepHigh = roundToBorder(coori[0]+1, deepBorder)\n",
        "    wideLow = roundToBorder(coori[1]-1, wideBorder)\n",
        "    wideHigh = roundToBorder(coori[1]+1, wideBorder)\n",
        "\n",
        "def roundToBorder(num, boarder):\n",
        "    if number < 0:\n",
        "        return 0\n",
        "    if number > 0:\n",
        "        return border\n",
        "\n",
        "    return number\n",
        "\n",
        "print(minesweeper(matrix))\n"
      ],
      "execution_count": 20,
      "outputs": [
        {
          "output_type": "error",
          "ename": "SyntaxError",
          "evalue": "ignored",
          "traceback": [
            "\u001b[0;36m  File \u001b[0;32m\"<ipython-input-20-df6ad4bd0f2c>\"\u001b[0;36m, line \u001b[0;32m10\u001b[0m\n\u001b[0;31m    def countBombSurrounding([i,j],matrix):\u001b[0m\n\u001b[0m                             ^\u001b[0m\n\u001b[0;31mSyntaxError\u001b[0m\u001b[0;31m:\u001b[0m invalid syntax\n"
          ]
        }
      ]
    },
    {
      "cell_type": "code",
      "metadata": {
        "id": "1bZUFQ6laJ2-"
      },
      "source": [
        ""
      ],
      "execution_count": null,
      "outputs": []
    }
  ]
}